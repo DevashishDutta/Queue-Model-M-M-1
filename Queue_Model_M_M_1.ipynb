{
  "nbformat": 4,
  "nbformat_minor": 0,
  "metadata": {
    "colab": {
      "name": "Queue Model M/M/1.ipynb",
      "provenance": [],
      "authorship_tag": "ABX9TyOgHeYWdaayXMktItDSy8PN",
      "include_colab_link": true
    },
    "kernelspec": {
      "name": "python3",
      "display_name": "Python 3"
    }
  },
  "cells": [
    {
      "cell_type": "markdown",
      "metadata": {
        "id": "view-in-github",
        "colab_type": "text"
      },
      "source": [
        "<a href=\"https://colab.research.google.com/github/DevashishDutta/Queue-Model-M-M-1/blob/main/Queue_Model_M_M_1.ipynb\" target=\"_parent\"><img src=\"https://colab.research.google.com/assets/colab-badge.svg\" alt=\"Open In Colab\"/></a>"
      ]
    },
    {
      "cell_type": "code",
      "metadata": {
        "id": "Q3kUSCfoSgnm"
      },
      "source": [
        "# > Some points are consider as\r\n",
        "\r\n",
        "# We assume Pn denote the probability of n customers in the system.\r\n",
        "\r\n",
        "# Service times are exponentially distributed with rate parameter μ.\r\n",
        "\r\n",
        "# Arrival occurs at the rate of λ where λ is poisson process.\r\n",
        "\r\n",
        "# A single server serves one customer at single moment on FCFS basis.\r\n",
        "\r\n",
        "# Suppose the system is in state n. \r\n",
        "#    Then (λ+μ)Pn = λPn−1 + μPn+1\r\n",
        "#    Here,\r\n",
        "#    (λ+μ)Pn: rate of an arrival or departure to Pn \r\n",
        "#    and\r\n",
        "#    λPn−1: rate of an \r\n",
        "#    arrival to Pn−1 μPn+1: rate of a departure from Pn+1\r\n"
      ],
      "execution_count": 56,
      "outputs": []
    },
    {
      "cell_type": "code",
      "metadata": {
        "id": "6-t4LqCa9g0E"
      },
      "source": [
        "import queue\r\n",
        "import numpy as np\r\n",
        "import matplotlib.pyplot as plt\r\n",
        "import copy"
      ],
      "execution_count": 57,
      "outputs": []
    },
    {
      "cell_type": "code",
      "metadata": {
        "id": "mSmWSABQAkza"
      },
      "source": [
        "def initilize_empty_list(fn):\r\n",
        "  def inner(self):\r\n",
        "    return fn(self)\r\n",
        "\r\n",
        "  return inner"
      ],
      "execution_count": 58,
      "outputs": []
    },
    {
      "cell_type": "code",
      "metadata": {
        "id": "WgfUl8yo-01o"
      },
      "source": [
        "class MM1:\r\n",
        "  def __init__(self):\r\n",
        "    self.total_time = int(input(\"Enter time for simulation of the M/M/1(in Hours): \"))\r\n",
        "    self.IAT_rate = int(input(\"Enter Job Arrival Rate of the M/M/1(in /Hour): \"))\r\n",
        "    self.ST_rate = int(input(\"Enter Job Service Rate of the M/M/1(in /Hour): \"))\r\n",
        "\r\n",
        "\r\n",
        "  @initilize_empty_list\r\n",
        "  def initializing_the_parameters(self):\r\n",
        "    self.rho = self.IAT_rate/self.ST_rate\r\n",
        "    self.que_val = queue.Queue()\r\n",
        "    self.current_process = None\r\n",
        "    # initilize empty list\r\n",
        "    self.IAT,self.ST,self.AT,self.wait_time,self.list_wait,self.list_delay=([] for i in range(6))\r\n",
        "    # assume server is not busy\r\n",
        "    self.server_busy = False\r\n",
        "    self.number_processes = int(np.random.poisson(self.IAT_rate)* self.total_time)\r\n",
        "    self.number_processes_served = 0\r\n",
        "    return self.number_processes"
      ],
      "execution_count": 59,
      "outputs": []
    },
    {
      "cell_type": "code",
      "metadata": {
        "id": "R8kQYUaCFrKV"
      },
      "source": [
        "class InterArrivalTimes(MM1):\r\n",
        "  def __init__(self):\r\n",
        "    super().__init__()\r\n",
        "    print(super().initializing_the_parameters())\r\n",
        "    # print(super.initializing_the_parameters())\r\n",
        "    for i in range(self.number_processes):\r\n",
        "      self.temp = np.random.exponential(1/self.IAT_rate)*60*60\r\n",
        "      #print(temp)\r\n",
        "      if i==0:\r\n",
        "        self.IAT.append(0)\r\n",
        "      else:\r\n",
        "        self.IAT.append(int(self.temp - self.temp%1))\r\n",
        "\r\n",
        "    # Populate Service-Times (ST)\r\n",
        "    while not len(self.ST) == self.number_processes:\r\n",
        "      self.temp = np.random.exponential(1/self.ST_rate)*60*60\r\n",
        "      if not int(self.temp- self.temp%1)<1:\r\n",
        "        self.ST.append(int(self.temp - self.temp%1))\r\n",
        "    \r\n",
        "    # Save a copy of ST\r\n",
        "    self.ST_copy = copy.deepcopy(self.ST)\r\n",
        "\r\n",
        "    # Get Arrival-Times (AT) from IAT starting at t=0\r\n",
        "    # and initialize Waiting-Times to 0\r\n",
        "    for i in range(self.number_processes):\r\n",
        "      if i == 0:\r\n",
        "        self.AT.append(0)\r\n",
        "      else:\r\n",
        "        self.AT.append(self.AT[i-1] + self.IAT[i])\r\n",
        "      self.wait_time.append(0)\r\n"
      ],
      "execution_count": 60,
      "outputs": []
    },
    {
      "cell_type": "code",
      "metadata": {
        "id": "Jo_m0uLmHxgG"
      },
      "source": [
        "class Simulation(InterArrivalTimes):\r\n",
        "  def __init__(self):\r\n",
        "    super().__init__()\r\n",
        "\r\n",
        "  \r\n",
        "  def data_val(self):\r\n",
        "    # Simulation of M/M/1 Queue Here, i represents current time\r\n",
        "    for i in range(self.total_time*60*60):\r\n",
        "      if self.server_busy:\r\n",
        "            for k in list(self.que_val.queue):\r\n",
        "              self.wait_time[k] = self.wait_time[k] + 1\r\n",
        "            self.ST[self.current_process] = self.ST[self.current_process] - 1\r\n",
        "            if self.ST[self.current_process] == 0:\r\n",
        "              self.server_busy = False\r\n",
        "              self.number_processes_served = self.number_processes_served + 1\r\n",
        "\r\n",
        "      for j in range(self.number_processes):\r\n",
        "        if i== self.AT[j]:\r\n",
        "          self.que_val.put(j)\r\n",
        "\r\n",
        "      if not self.server_busy and not self.que_val.empty():\r\n",
        "        self.current_process = self.que_val.get()\r\n",
        "        self.server_busy = True\r\n",
        "\r\n",
        "      self.sum_wait = 0\r\n",
        "      self.sum_delay = 0\r\n",
        "\r\n",
        "      for i in range(self.number_processes_served):\r\n",
        "        self.sum_wait = self.sum_wait + self.wait_time[i]\r\n",
        "        self.sum_delay = self.sum_delay + self.wait_time[i] + self.ST_copy[i]\r\n",
        "\r\n",
        "      if self.number_processes_served == 0:\r\n",
        "        self.list_wait.append(0)\r\n",
        "        self.list_delay.append(0)\r\n",
        "      else:\r\n",
        "        self.list_wait.append(self.sum_wait/(self.number_processes_served*60*60))\r\n",
        "        self.list_delay.append(self.sum_delay/(self.number_processes_served*60*60))\r\n",
        "    print(self.ST_copy)\r\n",
        "\r\n",
        "    \r\n",
        "\r\n",
        "  def visulising(self):\r\n",
        "    plt.plot([i+1 for i in range(self.total_time*60*60)], self.list_wait, color='#008040', linestyle='--', alpha= 1)\r\n",
        "    plt.ylabel(\"Average Wait Times\")\r\n",
        "    plt.show()\r\n",
        "    plt.plot([i+1 for i in range(self.total_time*60*60)], self.list_delay, color='blue', linestyle='--', alpha= 1)\r\n",
        "    plt.ylabel(\"Average Delay Times\")\r\n",
        "    plt.show()"
      ],
      "execution_count": 61,
      "outputs": []
    },
    {
      "cell_type": "code",
      "metadata": {
        "colab": {
          "base_uri": "https://localhost:8080/",
          "height": 618
        },
        "id": "xNbXwoSLHwr2",
        "outputId": "774ee3f9-020a-4d9f-9d69-987bb3d20ab3"
      },
      "source": [
        "obj = Simulation()\r\n",
        "obj.data_val()\r\n",
        "obj.visulising()\r\n"
      ],
      "execution_count": 64,
      "outputs": [
        {
          "output_type": "stream",
          "text": [
            "Enter time for simulation of the M/M/1(in Hours): 104\n",
            "Enter Job Arrival Rate of the M/M/1(in /Hour): 2\n",
            "Enter Job Service Rate of the M/M/1(in /Hour): 6\n",
            "312\n",
            "[99, 1940, 512, 75, 168, 233, 799, 31, 221, 87, 408, 128, 711, 38, 2039, 56, 715, 549, 1388, 183, 1789, 337, 491, 569, 115, 975, 60, 1372, 1657, 1428, 1786, 92, 347, 278, 165, 2840, 559, 87, 314, 274, 162, 681, 14, 499, 346, 317, 814, 265, 183, 348, 840, 379, 298, 26, 326, 2086, 2766, 61, 575, 1510, 224, 395, 758, 13, 38, 10, 156, 121, 577, 346, 521, 363, 1063, 989, 1795, 217, 437, 126, 1197, 1637, 56, 353, 722, 142, 27, 1332, 1014, 366, 277, 858, 632, 462, 358, 786, 147, 365, 1043, 293, 23, 351, 1200, 1036, 1223, 229, 118, 730, 77, 991, 661, 1076, 617, 1375, 488, 542, 856, 258, 378, 15, 363, 922, 766, 495, 971, 122, 570, 116, 375, 255, 173, 192, 491, 513, 497, 241, 76, 63, 342, 1029, 707, 169, 25, 325, 182, 1494, 746, 212, 193, 41, 19, 61, 793, 383, 8, 642, 65, 102, 49, 72, 591, 93, 369, 297, 452, 2478, 532, 274, 1053, 552, 244, 749, 113, 280, 128, 841, 425, 2057, 92, 408, 125, 1168, 469, 37, 1203, 977, 1121, 359, 288, 98, 1266, 20, 208, 395, 101, 165, 671, 489, 1805, 63, 363, 268, 365, 255, 571, 665, 529, 110, 50, 208, 715, 113, 47, 494, 274, 58, 947, 298, 1365, 289, 150, 346, 82, 313, 775, 1222, 155, 771, 1236, 1331, 1072, 772, 1786, 98, 139, 1226, 94, 510, 109, 868, 1337, 143, 1115, 161, 790, 232, 269, 49, 1117, 569, 1189, 1185, 163, 240, 112, 47, 599, 10, 229, 576, 884, 494, 1345, 28, 45, 516, 205, 803, 65, 2047, 427, 169, 1253, 256, 239, 692, 810, 126, 2551, 616, 1070, 553, 936, 202, 1594, 1583, 187, 485, 732, 329, 20, 544, 717, 207, 611, 10, 1109, 250, 149, 122, 466, 720, 160, 12, 154, 583, 47, 630, 1138, 1267, 901, 824, 1232, 2317]\n"
          ],
          "name": "stdout"
        },
        {
          "output_type": "display_data",
          "data": {
            "image/png": "[encoded data removed]",
            "text/plain": [
              "<Figure size 432x288 with 1 Axes>"
            ]
          },
          "metadata": {
            "tags": [],
            "needs_background": "light"
          }
        },
        {
          "output_type": "display_data",
          "data": {
            "image/png": "[encoded data removed]",
            "text/plain": [
              "<Figure size 432x288 with 1 Axes>"
            ]
          },
          "metadata": {
            "tags": [],
            "needs_background": "light"
          }
        }
      ]
    }
  ]
}